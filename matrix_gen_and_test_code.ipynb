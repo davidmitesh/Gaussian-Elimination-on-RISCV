{
  "nbformat": 4,
  "nbformat_minor": 0,
  "metadata": {
    "colab": {
      "provenance": []
    },
    "kernelspec": {
      "name": "python3",
      "display_name": "Python 3"
    },
    "language_info": {
      "name": "python"
    }
  },
  "cells": [
    {
      "cell_type": "markdown",
      "source": [
        "\n",
        "This segment of code below will generate the random system of linear equations which will be given as input to the RISC-V program.\n"
      ],
      "metadata": {
        "id": "v5yClYQ_b7yo"
      }
    },
    {
      "cell_type": "code",
      "source": [
        "import numpy as np\n",
        "\n",
        "def generate_linear_equations(k):\n",
        "    coeffs = [*range(-10, 0), *range(1, 11)]\n",
        "    rng = np.random.default_rng()\n",
        "    return rng.choice(coeffs, size=(k, k)), rng.random(k)\n",
        "\n",
        "k = int(input('Enter the number of variables: '))\n",
        "if not 2 <= k <= 8:\n",
        "    raise ValueError('The number of variables must be between 2 and 8.')\n",
        "coeffs, variables = generate_linear_equations(k)\n",
        "solution = coeffs.dot(variables)\n",
        "\n",
        "symbols = 'abcdefgh'[:k]\n",
        "for row, sol in zip(coeffs, solution):\n",
        "    lhs = ' '.join(f'{r:+}{s}' for r, s in zip(row, symbols)).lstrip('+')\n",
        "    print(f'{lhs} = {sol}')\n",
        "print()\n",
        "for s, v in zip(symbols, variables):\n",
        "    print(f'{s} = {v}')\n",
        "coeffs = np.array(coeffs)\n",
        "solution = np.array(solution)\n",
        "coeffs = np. concatenate((coeffs, solution[:,None]), axis=1)\n",
        "\n",
        "for i in range(len(coeffs)):\n",
        "  for x in coeffs[i]:\n",
        "    print(x,end=\",\")\n"
      ],
      "metadata": {
        "id": "DaNN4Sf_CgZE",
        "colab": {
          "base_uri": "https://localhost:8080/"
        },
        "outputId": "7353ffbe-ac28-45b9-b4c0-62e484267a14"
      },
      "execution_count": 4,
      "outputs": [
        {
          "output_type": "stream",
          "name": "stdout",
          "text": [
            "Enter the number of variables: 5\n",
            "-1a -2b -8c -7d +5e = -5.527201237588905\n",
            "3a +9b +7c -9d +9e = 5.155038406086312\n",
            "1a -1b +1c +8d -6e = 1.7738300416483304\n",
            "10a +6b -9c +6d -10e = -4.035778523082728\n",
            "-2a -9b -7c -3d +7e = -2.9215881326761126\n",
            "\n",
            "a = 0.09163583793951968\n",
            "b = 0.2252029408236974\n",
            "c = 0.44368851672090825\n",
            "d = 0.6476825831751728\n",
            "e = 0.6196253395982971\n",
            "-1.0,-2.0,-8.0,-7.0,5.0,-5.527201237588905,3.0,9.0,7.0,-9.0,9.0,5.155038406086312,1.0,-1.0,1.0,8.0,-6.0,1.7738300416483304,10.0,6.0,-9.0,6.0,-10.0,-4.035778523082728,-2.0,-9.0,-7.0,-3.0,7.0,-2.9215881326761126,"
          ]
        }
      ]
    },
    {
      "cell_type": "markdown",
      "source": [
        "In this segment of code, user need to input the hex values obtained as output from the RISC-V code in the variable named *hexSolutionValues*. After that, an *errorMatrix* is calculated where each entry denotes the deviation from the desired solution. Finally, average error is calculated."
      ],
      "metadata": {
        "id": "rstgH4mtc93_"
      }
    },
    {
      "cell_type": "code",
      "source": [
        "import struct\n",
        "hexSolutionValues = ['C0DFFFFD' ,'C0FFFFFD' ,'3F800000' ,'C0BFFFFF',\"40FFFFFE\"]\n",
        "\n",
        "errorMatrix = [0,0,0,0,0]\n",
        "averageError = 0\n",
        "for i in range(len(hexSolutionValues)):\n",
        "  currentElem = struct.unpack('!f', bytes.fromhex(hexSolutionValues[i]))[0]\n",
        "  error = abs(variables[i]-currentElem)\n",
        "  errorMatrix[i] = error\n",
        "  averageError = averageError + (error / 5)\n",
        "\n",
        "print(\"Error matrix is :\",errorMatrix)\n",
        "print(\"average error is : \",averageError)\n",
        "\n",
        "\n"
      ],
      "metadata": {
        "id": "mJLE1zcw5g4E",
        "colab": {
          "base_uri": "https://localhost:8080/"
        },
        "outputId": "43841a37-b8b1-484b-b79e-4a4e753858a6"
      },
      "execution_count": 3,
      "outputs": [
        {
          "output_type": "stream",
          "name": "stdout",
          "text": [
            "Error matrix is : [1.430511474609375e-06, 1.430511474609375e-06, 0.0, 4.76837158203125e-07, 9.5367431640625e-07]\n",
            "average error is :  8.583068847656249e-07\n"
          ]
        }
      ]
    }
  ]
}